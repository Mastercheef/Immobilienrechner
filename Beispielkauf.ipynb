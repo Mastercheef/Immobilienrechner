{
 "cells": [
  {
   "cell_type": "code",
   "execution_count": 1,
   "metadata": {
    "collapsed": true
   },
   "outputs": [],
   "source": [
    "from  Immobilien.Immobilie import Wohnung"
   ]
  },
  {
   "cell_type": "code",
   "execution_count": 2,
   "outputs": [],
   "source": [
    "# Kaufkosten Wohnung\n",
    "kaufpreis    = 160000\n",
    "zusatzkosten = 20000\n",
    "# Kaufnebenkosten\n",
    "gebuehren = [0.0, 0.065, 0.015, 0.005] #  Provision, Grundsteuer, Notar, Grundbuch\n",
    "# monatliche Kosten für Rücklagen, Verwaltung und nicht umlegbare Nebenkosten\n",
    "ruecklagen = 118\n",
    "# Mieteinnahmen\n",
    "kaltmiete = 550\n",
    "warmmiete = 900\n",
    "\n",
    "wohngeld  = 0\n",
    "# Hausverwaltungskosten pro Monat\n",
    "hausverwaltung = 0"
   ],
   "metadata": {
    "collapsed": false,
    "pycharm": {
     "name": "#%%\n"
    }
   }
  },
  {
   "cell_type": "code",
   "execution_count": 3,
   "outputs": [],
   "source": [
    "wohnung = Wohnung(kaltmiete=kaltmiete, kaufpreis=kaufpreis, gebuehren=gebuehren, zusatzkosten=zusatzkosten, ruecklagen=ruecklagen)"
   ],
   "metadata": {
    "collapsed": false,
    "pycharm": {
     "name": "#%%\n"
    }
   }
  },
  {
   "cell_type": "code",
   "execution_count": 4,
   "outputs": [
    {
     "name": "stdout",
     "output_type": "stream",
     "text": [
      "Netto Gewinn Monat: 432.0 € [vor Steuern]\n",
      "Netto Gewinn Jahr: 5184 €\n",
      "Brutto Rendite: 4.12 %\n",
      "Netto Rendite: 2.68 %\n",
      "Mietpreismultiplikator: 29.33 \n"
     ]
    }
   ],
   "source": [
    "wohnung.report()"
   ],
   "metadata": {
    "collapsed": false,
    "pycharm": {
     "name": "#%%\n"
    }
   }
  }
 ],
 "metadata": {
  "kernelspec": {
   "display_name": "Python 3",
   "language": "python",
   "name": "python3"
  },
  "language_info": {
   "codemirror_mode": {
    "name": "ipython",
    "version": 2
   },
   "file_extension": ".py",
   "mimetype": "text/x-python",
   "name": "python",
   "nbconvert_exporter": "python",
   "pygments_lexer": "ipython2",
   "version": "2.7.6"
  }
 },
 "nbformat": 4,
 "nbformat_minor": 0
}