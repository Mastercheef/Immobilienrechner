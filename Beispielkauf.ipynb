{
 "cells": [
  {
   "cell_type": "code",
   "execution_count": 4,
   "metadata": {
    "collapsed": true
   },
   "outputs": [],
   "source": [
    "from  Immobilien.Immobilie import Wohnung"
   ]
  },
  {
   "cell_type": "code",
   "execution_count": 5,
   "outputs": [],
   "source": [
    "# Kaufkosten Wohnung\n",
    "kaufpreis    = 347323\n",
    "zusatzkosten = 0\n",
    "# Kaufnebenkosten\n",
    "gebuehren = [0.0, 0.065, 0.015, 0.005] #  Provision, Grundsteuer, Notar, Grundbuch\n",
    "# monatliche Kosten für Rücklagen, Verwaltung und nicht umlegbare Nebenkosten\n",
    "hausgeld = 120\n",
    "# Mieteinnahmen\n",
    "kaltmiete = 926.4\n",
    "warmmiete = 0\n",
    "\n",
    "# Hausverwaltungskosten pro Monat\n",
    "hausverwaltung = 0"
   ],
   "metadata": {
    "collapsed": false,
    "pycharm": {
     "name": "#%%\n"
    }
   }
  },
  {
   "cell_type": "code",
   "execution_count": 6,
   "outputs": [],
   "source": [
    "wohnung = Wohnung(kaltmiete=kaltmiete, kaufpreis=kaufpreis, gebuehren=gebuehren, zusatzkosten=zusatzkosten, hausgeld=hausgeld)"
   ],
   "metadata": {
    "collapsed": false,
    "pycharm": {
     "name": "#%%\n"
    }
   }
  },
  {
   "cell_type": "code",
   "execution_count": 7,
   "outputs": [
    {
     "name": "stdout",
     "output_type": "stream",
     "text": [
      "Netto Gewinn Monat: 806.4 € [vor Steuern]\n",
      "Netto Gewinn Jahr:  9676.8 €\n",
      "__________________________________________________________\n",
      "Netto Rendite: 2.57 % | Idealwert: 3.5-4 %\n",
      "__________________________________________________________\n",
      "Mietpreismultiplikator: 33.9  | Standartwert: 25.0 \n"
     ]
    }
   ],
   "source": [
    "wohnung.report()"
   ],
   "metadata": {
    "collapsed": false,
    "pycharm": {
     "name": "#%%\n"
    }
   }
  }
 ],
 "metadata": {
  "kernelspec": {
   "display_name": "Python 3",
   "language": "python",
   "name": "python3"
  },
  "language_info": {
   "codemirror_mode": {
    "name": "ipython",
    "version": 2
   },
   "file_extension": ".py",
   "mimetype": "text/x-python",
   "name": "python",
   "nbconvert_exporter": "python",
   "pygments_lexer": "ipython2",
   "version": "2.7.6"
  }
 },
 "nbformat": 4,
 "nbformat_minor": 0
}